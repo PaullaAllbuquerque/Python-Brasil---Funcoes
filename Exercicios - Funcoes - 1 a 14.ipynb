{
 "cells": [
  {
   "cell_type": "code",
   "execution_count": 40,
   "id": "e93bff64",
   "metadata": {},
   "outputs": [
    {
     "name": "stdout",
     "output_type": "stream",
     "text": [
      "Digite um número: 4\n",
      "1\n",
      "22\n",
      "333\n",
      "4444\n"
     ]
    }
   ],
   "source": [
    "'''Exercício 1 -\n",
    "Faça um programa para imprimir:\n",
    "    1\n",
    "    2   2\n",
    "    3   3   3\n",
    "    .....\n",
    "    n   n   n   n   n   n  ... n\n",
    "para um n informado pelo usuário. Use uma função que receba um valor n inteiro e imprima até a n-ésima linha.\n",
    "\n",
    "'''\n",
    "def prints_n(n):\n",
    "    for i in range (n):\n",
    "        i+=1\n",
    "        print(str(i)*i)\n",
    "        \n",
    "n = int(input('Digite um número: '))\n",
    "prints_n(n)\n",
    " "
   ]
  },
  {
   "cell_type": "code",
   "execution_count": 2,
   "id": "60d3a048",
   "metadata": {},
   "outputs": [
    {
     "name": "stdout",
     "output_type": "stream",
     "text": [
      "Insira um número: 4\n",
      "1\t\n",
      "1\t2\t\n",
      "1\t2\t3\t\n",
      "1\t2\t3\t4\t\n"
     ]
    }
   ],
   "source": [
    "'''Exercício 2 - Faça um programa para imprimir:\n",
    "    1\n",
    "    1   2\n",
    "    1   2   3\n",
    "    .....\n",
    "    1   2   3   ...  n\n",
    "para um n informado pelo usuário. Use uma função que receba um valor n inteiro imprima até a n-ésima linha.\n",
    "\n",
    "'''\n",
    "\n",
    "def progressao(n,lista):\n",
    "    for i in range(n):\n",
    "        lista+=str(i+1)+'\\t'\n",
    "        print(lista)\n",
    "lista=''\n",
    "n = int(input('Insira um número: '))\n",
    "progressao(n, lista)\n",
    "\n",
    "   "
   ]
  },
  {
   "cell_type": "code",
   "execution_count": 6,
   "id": "2f43a467",
   "metadata": {},
   "outputs": [
    {
     "data": {
      "text/plain": [
       "11"
      ]
     },
     "execution_count": 6,
     "metadata": {},
     "output_type": "execute_result"
    }
   ],
   "source": [
    "'''Exercício 3 - Faça um programa, com uma função que necessite de três argumentos, \n",
    "e que forneça a soma desses três argumentos.\n",
    "'''\n",
    "def soma(a,b,c):\n",
    "    s=a+b+c\n",
    "    return s\n",
    "soma(1,1,9)\n",
    "     "
   ]
  },
  {
   "cell_type": "code",
   "execution_count": 9,
   "id": "edaf69a8",
   "metadata": {},
   "outputs": [
    {
     "data": {
      "text/plain": [
       "'N'"
      ]
     },
     "execution_count": 9,
     "metadata": {},
     "output_type": "execute_result"
    }
   ],
   "source": [
    "'''Exercício 4 - Faça um programa, com uma função que necessite de um argumento.\n",
    "A função retorna o valor de caractere ‘P’, se seu argumento for positivo, e ‘N’, se seu argumento for zero ou negativo.\n",
    "'''\n",
    "\n",
    "def PouN(n):\n",
    "    if n <=0:\n",
    "        return 'N'\n",
    "        \n",
    "    else:\n",
    "        return 'P'\n",
    "    \n",
    "PouN(-8)\n",
    "    "
   ]
  },
  {
   "cell_type": "code",
   "execution_count": 15,
   "id": "4349355b",
   "metadata": {},
   "outputs": [
    {
     "data": {
      "text/plain": [
       "45.225"
      ]
     },
     "execution_count": 15,
     "metadata": {},
     "output_type": "execute_result"
    }
   ],
   "source": [
    "'''Exercício 5 - Faça um programa com uma função chamada somaImposto. A função possui dois \n",
    "parâmetros formais: taxaImposto, que é a quantia de imposto sobre vendas expressa em porcentagem e custo, \n",
    "que é o custo de um item antes do imposto. A função “altera” o valor de custo para incluir o imposto sobre vendas.\n",
    "'''\n",
    "\n",
    "def somaImposto (taxaImposto, custo):\n",
    "    impostoPercentual = custo+(custo*taxaImposto/100)\n",
    "    return impostoPercentual\n",
    "\n",
    "somaImposto(0.5,45)"
   ]
  },
  {
   "cell_type": "code",
   "execution_count": 11,
   "id": "d2d7b835",
   "metadata": {},
   "outputs": [
    {
     "name": "stdout",
     "output_type": "stream",
     "text": [
      "Insira a hora em notação 24h: 13\n",
      "Insira os minutos: 12\n"
     ]
    }
   ],
   "source": [
    "'''Exercício 6 - Faça um programa que converta da notação de 24 horas para a notação de 12 horas. \n",
    "Por exemplo, o programa deve converter 14:25 em 2:25 P.M. A entrada é dada em dois inteiros. \n",
    "Deve haver pelo menos duas funções: uma para fazer a conversão e uma para a saída. \n",
    "Registre a informação A.M./P.M. como um valor ‘A’ para A.M. e ‘P’ para P.M. \n",
    "Assim, a função para efetuar as conversões terá um parâmetro formal para registrar se é A.M. ou P.M.\n",
    "Inclua um loop que permita que o usuário repita esse cálculo para novos valores de entrada \n",
    "todas as vezes que desejar'''\n",
    "\n",
    "\n",
    "hora=int(input(('Insira a hora em notação 24h: ')))\n",
    "minuto=int(input('Insira os minutos: '))\n",
    "\n",
    "def conversaoHora():\n",
    "    if hora >0 and hora<=12:\n",
    "        return hora\n",
    "    else:\n",
    "        conv=hora-12\n",
    "        return conv\n",
    "\n",
    "conversaoHora()\n",
    "\n",
    "\n"
   ]
  },
  {
   "cell_type": "code",
   "execution_count": 11,
   "id": "3ce9e732",
   "metadata": {},
   "outputs": [
    {
     "name": "stdout",
     "output_type": "stream",
     "text": [
      "Digite o valor da prestação: 200\n",
      "Digite os dias de atraso: 0\n",
      "Valor da prestação: R$200.0\n",
      "Digite o valor da prestação: 200\n",
      "Digite os dias de atraso: 1\n",
      "Valor da prestação: R$208.06\n",
      "Digite o valor da prestação: 0\n"
     ]
    }
   ],
   "source": [
    "'''Exercício 7 - Faça um programa que use a função valorPagamento para determinar \n",
    "o valor a ser pago por uma prestação de uma conta. O programa deverá solicitar ao \n",
    "usuário o valor da prestação e o número de dias em atraso e passar estes valores para a \n",
    "função valorPagamento, que calculará o valor a ser pago e devolverá este valor ao programa que a chamou.\n",
    "O programa deverá então exibir o valor a ser pago na tela. Após a execução o programa deverá \n",
    "voltar a pedir outro valor de prestação e assim continuar até que seja informado um valor igual a \n",
    "zero para a prestação. Neste momento o programa deverá ser encerrado, exibindo o relatório do dia, \n",
    "que conterá a quantidade e o valor total de prestações pagas no dia. O cálculo do valor \n",
    "a ser pago é feito da seguinte forma. Para pagamentos sem atraso, cobrar o valor da prestação. \n",
    "Quando houver atraso, cobrar 3% de multa, mais 0,1% de juros por dia de atraso.'''\n",
    "def valorPagamento(v,d=0):\n",
    "    if d==0:\n",
    "        print(f'Valor da prestação: R${valor}')\n",
    "    elif d != 0:\n",
    "        cont=0\n",
    "        multa=valor+(valor*0.03)\n",
    "        while cont<d:\n",
    "            juros= multa+(multa*0.01)\n",
    "            multa=juros\n",
    "            cont+=1\n",
    "        print(f'Valor da prestação: R${round(multa,2)}')\n",
    "\n",
    "while valor!=0:\n",
    "    valor=float(input('Digite o valor da prestação: '))\n",
    "    if valor == 0:\n",
    "        break\n",
    "    else:\n",
    "        atraso=int(input('Digite os dias de atraso: '))\n",
    "        valorPagamento(valor,atraso)\n"
   ]
  },
  {
   "cell_type": "code",
   "execution_count": 13,
   "id": "ac09df86",
   "metadata": {},
   "outputs": [
    {
     "name": "stdout",
     "output_type": "stream",
     "text": [
      "Digite um número: 19854\n",
      "5\n"
     ]
    }
   ],
   "source": [
    "'''Exercício 8 - Faça uma função que informe a quantidade de dígitos de um determinado número inteiro informado.\n",
    "'''\n",
    "def contador(n):\n",
    "    n=str(n)\n",
    "    print(len(n))\n",
    "\n",
    "num=int(input('Digite um número: '))\n",
    "contador(num)\n"
   ]
  },
  {
   "cell_type": "code",
   "execution_count": 15,
   "id": "e08f3d35",
   "metadata": {},
   "outputs": [
    {
     "name": "stdout",
     "output_type": "stream",
     "text": [
      "Insira um número: 456\n",
      "654\n"
     ]
    }
   ],
   "source": [
    "'''Exercício 9 - Reverso do número. Faça uma função que retorne o reverso de um número inteiro informado. \n",
    "Por exemplo: 127 -> 721.\n",
    "\n",
    "'''\n",
    "def reverso(n):\n",
    "    invert=int(str(n)[::-1])\n",
    "    print(invert)\n",
    "\n",
    "num=int(input('Insira um número: '))\n",
    "reverso(num)"
   ]
  },
  {
   "cell_type": "code",
   "execution_count": 29,
   "id": "5bddf064",
   "metadata": {},
   "outputs": [
    {
     "name": "stdout",
     "output_type": "stream",
     "text": [
      "3 2 5\n",
      "Ponto\n",
      "Você ganhou!\n",
      "Você perdeu!\n"
     ]
    }
   ],
   "source": [
    "'''Exercício 10 - Jogo de Craps. Faça um programa que implemente um jogo de Craps. \n",
    "O jogador lança um par de dados, obtendo um valor entre 2 e 12. Se, na primeira jogada, \n",
    "você tirar 7 ou 11, você um \"natural\" e ganhou. Se você tirar 2, 3 ou 12 na primeira jogada, \n",
    "isto é chamado de \"craps\" e você perdeu. Se, na primeira jogada, você fez um 4, 5, 6, 8, 9 ou 10,este é seu\n",
    "\"Ponto\". Seu objetivo agora é continuar jogando os dados até tirar este número novamente. Você perde, no entanto, \n",
    "se tirar um 7 antes de tirar este Ponto novamente.'''\n",
    "import random\n",
    "\n",
    "def jogoCraps():\n",
    "    cont=1\n",
    "    dado1=random.randint(1,6)\n",
    "    dado2=random.randint(1,6)\n",
    "    soma=dado1+dado2\n",
    "    print(dado1,dado2,soma)\n",
    "    if soma == 7 or soma==11:\n",
    "        print('Natural')\n",
    "    elif soma==2 or soma==3 or soma==12:\n",
    "        print('Craps! Você perdeu.')\n",
    "    else:\n",
    "        print('Ponto')\n",
    "        cont+=1\n",
    "    while True:\n",
    "        novosDados=random.randint(2,12)\n",
    "        if novosDados==7:\n",
    "            print('Você perdeu!')\n",
    "            break\n",
    "        elif novosDados==soma:\n",
    "            print('Você ganhou!')\n",
    "            \n",
    "        else:\n",
    "            cont+=1\n",
    "\n",
    "        \n",
    "jogoCraps()\n"
   ]
  },
  {
   "cell_type": "code",
   "execution_count": 48,
   "id": "81d83b0d",
   "metadata": {},
   "outputs": [
    {
     "name": "stdout",
     "output_type": "stream",
     "text": [
      "Digite a data [DD/MM/AAAA]: 12/07/1985\n",
      "12 de julho de 1985\n"
     ]
    }
   ],
   "source": [
    "'''Exercício 11 - Data com mês por extenso. Construa uma função que receba uma data no \n",
    "formato DD/MM/AAAA e devolva uma string no formato D de mesPorExtenso de AAAA. Opcionalmente, \n",
    "valide a data e retorne NULL caso a data seja inválida.'''\n",
    "\n",
    "import datetime\n",
    "\n",
    "def mesPorExtenso(mes):\n",
    "    meses = [(), ['janeiro', 31], ['fevereiro', 29], ['março', 31], ['abril', 30],\n",
    "                 ['maio', 31], ['junho', 30], ['julho', 31], ['agosto', 31], ['setembro', 30],\n",
    "                 ['outubro', 31], ['novembro', 30], ['dezembro', 31]]\n",
    "        \n",
    "    dia, mes, ano = int(data[0]), int(data[1]), int(data[2])\n",
    "    hoje = datetime.datetime.now()\n",
    "    anoHoje = hoje.year\n",
    "    \n",
    "    if mes == 2:\n",
    "        meses[mes][1] = anoBissexto(ano)\n",
    "    if 0<mes<13 and 0<dia<=meses[mes][1] and 1900<ano<anoHoje:\n",
    "        print(f'{dia} de {meses[mes][0]} de {ano}')\n",
    "    else:\n",
    "        print('Null')\n",
    "        \n",
    "def anoBissexto(ano):\n",
    "    if ano%400==0 or ano%4==0 and ano%100!=0:\n",
    "        return 29\n",
    "    else:\n",
    "        return 28\n",
    "\n",
    "data=str(input('Digite a data [DD/MM/AAAA]: ')).split('/')\n",
    "mesPorExtenso(data)\n",
    "         \n"
   ]
  },
  {
   "cell_type": "code",
   "execution_count": 51,
   "id": "ed671e17",
   "metadata": {},
   "outputs": [
    {
     "name": "stdout",
     "output_type": "stream",
     "text": [
      "Insira uma palavra a sua escolha: sintaxe\n",
      "XTISANE\n"
     ]
    }
   ],
   "source": [
    "'''Exercício 12 - Embaralha palavra. Construa uma função que receba uma string como parâmetro e \n",
    "devolva outra string com os carateres embaralhados. Por exemplo: se função receber a palavra python,\n",
    "pode retornar npthyo, ophtyn ou qualquer outra combinação possível, de forma aleatória. \n",
    "Padronize em sua função que todos os caracteres serão devolvidos em caixa alta ou caixa baixa, \n",
    "independentemente de como foram digitados.\n",
    "'''\n",
    "\n",
    "def embaralhaPalavras(palavra):\n",
    "    p=''.join(random.sample(palavra, len(palavra)))\n",
    "    return p\n",
    "\n",
    "    \n",
    "palavra=str(input('Insira uma palavra a sua escolha: ')).upper()\n",
    "print(embaralhaPalavras(palavra))    "
   ]
  },
  {
   "cell_type": "code",
   "execution_count": 72,
   "id": "d7c4bb90",
   "metadata": {},
   "outputs": [
    {
     "name": "stdout",
     "output_type": "stream",
     "text": [
      "Insira a quantida de linhas: 20\n",
      "+ ------------------ +\n",
      "|                    |\n",
      "|                    |\n",
      "|                    |\n",
      "|                    |\n",
      "|                    |\n",
      "+ ------------------ +\n"
     ]
    }
   ],
   "source": [
    "'''exercício 13 - Desenha moldura. Construa uma função que desenhe um retângulo usando os caracteres ‘+’ , ‘−’ e ‘| ‘. \n",
    "Esta função deve receber dois parâmetros, linhas e colunas, sendo que o valor por omissão é o valor mínimo igual a 1 e o \n",
    "valor máximo é 20. Se valores fora da faixa forem informados, eles devem ser modificados para valores dentro da faixa de \n",
    "forma elegante'''\n",
    "\n",
    "def retangulo(l,c):\n",
    "    print('+','-'*(l-2),'+')\n",
    "    for cont in range(c-2):\n",
    "        print('|', ' '*(l-2), '|')\n",
    "    print('+','-'*(l-2),'+')\n",
    "    \n",
    "linha=int(input('Insira a quantida de linhas: '))\n",
    "while linha<1 or linha>20:\n",
    "    linha=20\n",
    "\n",
    "coluna = round(linha/3)\n",
    "retangulo(linha,coluna)"
   ]
  },
  {
   "cell_type": "code",
   "execution_count": 80,
   "id": "6d8ffb63",
   "metadata": {},
   "outputs": [
    {
     "name": "stdout",
     "output_type": "stream",
     "text": [
      "[5] [3] [7] \n",
      "[1] [4] [2] \n",
      "[8] [9] [6] \n"
     ]
    }
   ],
   "source": [
    "'''Exercício 14 - Quadrado mágico. Um quadrado mágico é aquele dividido em linhas e colunas, \n",
    "com um número em cada posição e no qual a soma das linhas, colunas e diagonais é a mesma. \n",
    "Por exemplo, veja um quadrado mágico de lado 3, com números de 1 a 9:\n",
    "\n",
    "8  3  4 \n",
    "1  5  9\n",
    "6  7  2\n",
    "Elabore uma função que identifica e mostra na tela todos os quadrados mágicos com as características acima.\n",
    "Dica: produza todas as combinações possíveis e verifique a soma quando completar cada quadrado. \n",
    "Usar um vetor de 1 a 9 parece ser mais simples que usar uma matriz 3x3.'''\n",
    "\n",
    "\n",
    "from random import randint\n",
    "\n",
    "def quadrado_magico3x3():\n",
    "    linha_a = [2, 1, 3]\n",
    "    linha_b = [0, 0, 1]\n",
    "    linha_c = [0, 0, 0]\n",
    "    soma_col1 = soma_col2 = soma_col3 = diagonal1 = diagonal2 = 0\n",
    "    matriz = [linha_a, linha_b, linha_c]\n",
    "    while not sum(linha_a) == sum(linha_b) == sum(\n",
    "            linha_c) == soma_col1 == soma_col2 == soma_col3 == diagonal1 == diagonal2:\n",
    "        linha_a.clear()\n",
    "        linha_b.clear()\n",
    "        linha_c.clear()\n",
    "        soma_col1 = soma_col2 = soma_col3 = diagonal1 = diagonal2 = 0\n",
    "        while len(linha_a) != 3:\n",
    "            x = randint(1, 9)\n",
    "            if x not in linha_a:\n",
    "                linha_a.append(x)\n",
    "        while len(linha_b) != 3:\n",
    "            x = randint(1, 9)\n",
    "            if x not in linha_a and x not in linha_b:\n",
    "                linha_b.append(x)\n",
    "        while len(linha_c) != 3:\n",
    "            x = randint(1, 9)\n",
    "            if x not in linha_b and x not in linha_c and x not in linha_a:\n",
    "                linha_c.append(x)\n",
    "        soma_col1 = linha_a[0] + linha_b[0] + linha_c[0]\n",
    "        soma_col2 = linha_a[1] + linha_b[1] + linha_c[1]\n",
    "        soma_col3 = linha_a[2] + linha_b[2] + linha_c[2]\n",
    "        diagonal1 = linha_a[0] + linha_b[1] + linha_c[2]\n",
    "        diagonal2 = linha_a[2] + linha_b[1] + linha_c[0]\n",
    "        return matriz\n",
    "\n",
    "\n",
    "Matriz = quadrado_magico3x3()\n",
    "for lin in range(3):\n",
    "    for col in range(3):\n",
    "        print(f'[{Matriz[lin][col]}]', end=' ')\n",
    "    print()\n",
    "    "
   ]
  }
 ],
 "metadata": {
  "kernelspec": {
   "display_name": "Python 3 (ipykernel)",
   "language": "python",
   "name": "python3"
  },
  "language_info": {
   "codemirror_mode": {
    "name": "ipython",
    "version": 3
   },
   "file_extension": ".py",
   "mimetype": "text/x-python",
   "name": "python",
   "nbconvert_exporter": "python",
   "pygments_lexer": "ipython3",
   "version": "3.9.12"
  }
 },
 "nbformat": 4,
 "nbformat_minor": 5
}
